{
 "cells": [
  {
   "cell_type": "code",
   "execution_count": 3,
   "metadata": {
    "collapsed": true
   },
   "outputs": [],
   "source": [
    "import os\n",
    "import csv\n",
    "import platform\n",
    "import pandas as pd\n",
    "import networkx as nx\n",
    "from graph_partitioning import GraphPartitioning, utils\n",
    "\n",
    "pwd = %pwd\n",
    "\n"
   ]
  },
  {
   "cell_type": "code",
   "execution_count": 15,
   "metadata": {
    "collapsed": false
   },
   "outputs": [],
   "source": [
    "import random\n",
    "\n",
    "def getNetworkMinMaxCoordinateLocations(path):\n",
    "    minX = 1000000.0\n",
    "    minY = 1000000.0\n",
    "    maxX = -1000000.0\n",
    "    maxY= -1000000.0\n",
    "    \n",
    "    with open(path, 'r+') as f:\n",
    "        for line in f:\n",
    "            line = line.strip()\n",
    "            xy = line.split(',')\n",
    "            if(len(xy) == 2):\n",
    "                x = float(xy[0])\n",
    "                y = float(xy[1])\n",
    "                \n",
    "                if x > maxX:\n",
    "                    maxX = x\n",
    "                if x < minX:\n",
    "                    minX = x\n",
    "                if y > maxY:\n",
    "                    maxY = y\n",
    "                if y < minY:\n",
    "                    minY = y\n",
    "    return [(minX, maxX), (minY, maxY)]\n",
    "\n",
    "def generateNodeCoordinates(xRange, yRange, numCoordinates):\n",
    "    coords = []\n",
    "    for i in range(0, numCoordinates):\n",
    "        # generate x, y\n",
    "        x = random.uniform(xRange[0], xRange[1])\n",
    "        y = random.uniform(yRange[0], yRange[1])\n",
    "        coords.append((x, y))\n",
    "    return coords\n",
    "        \n",
    "    \n",
    "import tempfile\n",
    "import shutil\n",
    "\n",
    "class LonelyNodesModifier:\n",
    "    def __init__(self, graphPartitioner, percentageToAdd, additionLocation, isEnabled):\n",
    "        self.tmpDir = tempfile.mkdtemp()\n",
    "        self.gp = graphPartitioner\n",
    "        self.isEnabled = isEnabled\n",
    "        self.additionLocation = additionLocation\n",
    "        self.percentageToAdd = percentageToAdd\n",
    "\n",
    "    def add_lonely_nodes(self):\n",
    "        if self.isEnabled:\n",
    "            # update graph\n",
    "            self.numLonelyNodesAdded = utils.add_lonely_nodes_to_graph(self.gp.G, self.percentageToAdd, self.additionLocation)\n",
    "\n",
    "            # update simulated arrivals list\n",
    "            self.gp.simulated_arrival_list = utils.add_lonely_node_arrivals(self.gp.simulated_arrival_list, self.numLonelyNodesAdded, self.additionLocation)\n",
    "\n",
    "            # update fixed\n",
    "        \n",
    "    def setLonelyCoordinates(self):\n",
    "        if self.isEnabled:\n",
    "            # get coordinate locations\n",
    "            self.xRange, self.yRange = getNetworkMinMaxCoordinateLocations(self.gp.COORDINATE_FILE)\n",
    "            coords = generateNodeCoordinates(self.xRange, self.yRange, self.numLonelyNodesAdded)\n",
    "\n",
    "                                \n",
    "            # save coordinate file to right location\n",
    "            self.coordPath = os.path.join(self.tmpDir, 'COORDINATES.csv')\n",
    "            with open(self.coordPath, 'w') as outF:\n",
    "                if self.additionLocation == 'before':\n",
    "                    self._writeCoordsToFileStream(coords, outF)\n",
    "                with open(self.gp.COORDINATE_FILE) as inF:\n",
    "                    for line in inF:\n",
    "                        outF.write(line)\n",
    "                if self.additionLocation == 'after':\n",
    "                    self._writeCoordsToFileStream(coords, outF)\n",
    "                \n",
    "    def _writeCoordToFileAsLine(self, coordinate, fStream):\n",
    "            s = str(coordinate[0]) + ',' + str(coordinate[1]) + '\\n'\n",
    "            fStream.write(s)\n",
    "\n",
    "    def _writeCoordsToFileStream(self, coordinates, fStream):\n",
    "        for coord in coordinates:\n",
    "            self._writeCoordToFileAsLine(coord, fStream)\n",
    "            \n",
    "    def __del__(self):\n",
    "        if os.path.exists(self.tmpDir):\n",
    "            shutil.rmtree(self.tmpDir)\n"
   ]
  },
  {
   "cell_type": "code",
   "execution_count": 19,
   "metadata": {
    "collapsed": false
   },
   "outputs": [
    {
     "name": "stdout",
     "output_type": "stream",
     "text": [
      "1199 1200\n",
      "/var/folders/b4/hlv7g_9x5hg2n0n422577ts00000gn/T/tmpuzvdnh2s/COORDINATES.csv\n"
     ]
    }
   ],
   "source": [
    "\n",
    "class GP:\n",
    "    def __init__(self):\n",
    "        self.graphPath = os.path.join(pwd, \"data\", \"predition_model_tests\", \"network\", \"network_1.txt\")\n",
    "        self.SIMULATED_ARRIVAL_FILE = os.path.join(pwd,\"data\",\"predition_model_tests\",\"dataset_1_shift_rotate\",\"simulated_arrival_list\",\"percentage_of_prediction_correct_100\",\"arrival_100_1.txt\")\n",
    "        self.COORDINATE_FILE = os.path.join(pwd,\"data\",\"predition_model_tests\",\"coordinates\",\"coordinates_1.txt\")\n",
    "\n",
    "        self.G = utils.read_metis(graphPath)\n",
    "\n",
    "        self.simulated_arrival_list = []\n",
    "        with open(self.SIMULATED_ARRIVAL_FILE, \"r\") as ar:\n",
    "            self.simulated_arrival_list = [int(line.rstrip('\\n')) for line in ar]\n",
    "\n",
    "\n",
    "        \n",
    "gp = GP()\n",
    "\n",
    "lm = LonelyNodesModifier(gp, 0.2, 'after', True)\n",
    "lm.add_lonely_nodes()\n",
    "lm.setLonelyCoordinates()\n",
    "\n",
    "\n",
    "print(gp.G.number_of_nodes(), len(gp.simulated_arrival_list))\n",
    "print(lm.coordPath)"
   ]
  },
  {
   "cell_type": "code",
   "execution_count": 18,
   "metadata": {
    "collapsed": false
   },
   "outputs": [
    {
     "ename": "NameError",
     "evalue": "name 'SIMULATED_ARRIVAL_FILE' is not defined",
     "output_type": "error",
     "traceback": [
      "\u001b[0;31m---------------------------------------------------------------------------\u001b[0m",
      "\u001b[0;31mNameError\u001b[0m                                 Traceback (most recent call last)",
      "\u001b[0;32m<ipython-input-18-4277ca53ed85>\u001b[0m in \u001b[0;36m<module>\u001b[0;34m()\u001b[0m\n\u001b[1;32m     10\u001b[0m \u001b[0;31m# load arrivals list\u001b[0m\u001b[0;34m\u001b[0m\u001b[0;34m\u001b[0m\u001b[0m\n\u001b[1;32m     11\u001b[0m \u001b[0msimulated_arrival_list\u001b[0m \u001b[0;34m=\u001b[0m \u001b[0;34m[\u001b[0m\u001b[0;34m]\u001b[0m\u001b[0;34m\u001b[0m\u001b[0m\n\u001b[0;32m---> 12\u001b[0;31m \u001b[0;32mwith\u001b[0m \u001b[0mopen\u001b[0m\u001b[0;34m(\u001b[0m\u001b[0mSIMULATED_ARRIVAL_FILE\u001b[0m\u001b[0;34m,\u001b[0m \u001b[0;34m\"r\"\u001b[0m\u001b[0;34m)\u001b[0m \u001b[0;32mas\u001b[0m \u001b[0mar\u001b[0m\u001b[0;34m:\u001b[0m\u001b[0;34m\u001b[0m\u001b[0m\n\u001b[0m\u001b[1;32m     13\u001b[0m     \u001b[0msimulated_arrival_list\u001b[0m \u001b[0;34m=\u001b[0m \u001b[0;34m[\u001b[0m\u001b[0mint\u001b[0m\u001b[0;34m(\u001b[0m\u001b[0mline\u001b[0m\u001b[0;34m.\u001b[0m\u001b[0mrstrip\u001b[0m\u001b[0;34m(\u001b[0m\u001b[0;34m'\\n'\u001b[0m\u001b[0;34m)\u001b[0m\u001b[0;34m)\u001b[0m \u001b[0;32mfor\u001b[0m \u001b[0mline\u001b[0m \u001b[0;32min\u001b[0m \u001b[0mar\u001b[0m\u001b[0;34m]\u001b[0m\u001b[0;34m\u001b[0m\u001b[0m\n\u001b[1;32m     14\u001b[0m \u001b[0;34m\u001b[0m\u001b[0m\n",
      "\u001b[0;31mNameError\u001b[0m: name 'SIMULATED_ARRIVAL_FILE' is not defined"
     ]
    }
   ],
   "source": [
    "\n",
    "\n",
    "\n",
    "# load graph\n",
    "G = utils.read_metis(graphPath)\n",
    "\n",
    "# modify graph with lonely nodes\n",
    "numLonelyNodesAdded = utils.add_lonely_nodes_to_graph(G, 0.2, 'after')\n",
    "\n",
    "# load arrivals list\n",
    "simulated_arrival_list = []\n",
    "with open(SIMULATED_ARRIVAL_FILE, \"r\") as ar:\n",
    "    simulated_arrival_list = [int(line.rstrip('\\n')) for line in ar]\n",
    "\n",
    "# modify arrivals list\n",
    "simulated_arrival_list = utils.add_lonely_node_arrivals(simulated_arrival_list, numLonelyNodesAdded, 'before')\n",
    "\n",
    "#print(simulated_arrival_list)\n",
    "\n",
    "xRange, yRange = getNetworkMinMaxCoordinateLocations(COORDINATE_FILE)\n",
    "coords = generateNodeCoordinates(xRange, yRange, numLonelyNodesAdded)\n",
    "\n"
   ]
  },
  {
   "cell_type": "code",
   "execution_count": null,
   "metadata": {
    "collapsed": true
   },
   "outputs": [],
   "source": []
  }
 ],
 "metadata": {
  "kernelspec": {
   "display_name": "Python 3",
   "language": "python",
   "name": "python3"
  },
  "language_info": {
   "codemirror_mode": {
    "name": "ipython",
    "version": 3
   },
   "file_extension": ".py",
   "mimetype": "text/x-python",
   "name": "python",
   "nbconvert_exporter": "python",
   "pygments_lexer": "ipython3",
   "version": "3.6.3"
  }
 },
 "nbformat": 4,
 "nbformat_minor": 2
}
